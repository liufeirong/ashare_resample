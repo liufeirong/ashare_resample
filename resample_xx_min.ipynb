{
 "cells": [
  {
   "cell_type": "code",
   "execution_count": 6,
   "metadata": {},
   "outputs": [],
   "source": [
    "import numpy as np\n",
    "import pandas as pd\n",
    "\n",
    "import time\n",
    "import datetime\n",
    "import threading\n",
    "import redis\n",
    "\n",
    "import talib\n",
    "import tushare as ts\n",
    "from utils.time_util import get_market_date\n",
    "from utils.stat_util import get_stat_info\n",
    "\n",
    "red = redis.Redis(host='localhost')"
   ]
  },
  {
   "cell_type": "code",
   "execution_count": 7,
   "metadata": {},
   "outputs": [],
   "source": [
    "ohlc_dict = {'open':'first','high':'max','low':'min','close':'last','vol':'sum','amount':'sum'}\n",
    "def resample_freq(df_buffer, freq):\n",
    "    df_freq = None\n",
    "    for ticker, group in df_buffer.groupby(['code']):\n",
    "        group = group.set_index(['datetime']).astype(float)\n",
    "        df_temp = group.resample(freq, how=ohlc_dict, closed='right', label='right')\n",
    "        df_temp['code'] = ticker\n",
    "        if df_freq is None:\n",
    "            df_freq = df_temp\n",
    "        else:\n",
    "            df_freq = pd.concat([df_freq, df_temp])\n",
    "    df_freq = df_freq.dropna().reset_index()\n",
    "    return df_freq[['code','datetime','open','high','low','close','vol','amount']]"
   ]
  },
  {
   "cell_type": "code",
   "execution_count": 13,
   "metadata": {},
   "outputs": [],
   "source": [
    "def run_resample_freq(freq):\n",
    "    intfreq = int(freq[:-3])\n",
    "    cur_date = datetime.datetime.now().strftime('%Y-%m-%d')\n",
    "    resample_time = '09:30:00'\n",
    "    end_time = '15:00:00'\n",
    "    key_1min = 't_1min_'+cur_date\n",
    "    key_freq = 't_'+freq+'_'+cur_date\n",
    "    df_1min, df_freq = None, None\n",
    "    df_bytes_freq = red.get(key_freq)\n",
    "    if df_bytes_freq is not None:\n",
    "        df_freq = pd.read_msgpack(df_bytes_freq)\n",
    "        resample_time = df_freq['datetime'].iloc[-1] - datetime.timedelta(minutes=intfreq)\n",
    "        resample_time = resample_time.strftime('%H:%M:%S')\n",
    "    while resample_time < end_time:\n",
    "        df_bytes_1min = red.get(key_1min)\n",
    "        df_1min = pd.read_msgpack(df_bytes_1min)\n",
    "        df_1min = df_1min.loc[df_1min['datetime']>cur_date+' '+resample_time]\n",
    "        if len(df_1min) == 0 and datetime.datetime.now().strftime('%Y-%m-%d') > end_time:\n",
    "            print('the market has closed!')\n",
    "            break\n",
    "        df_cur_freq = resample_freq(df_1min, freq)\n",
    "        if df_freq is None:\n",
    "            df_freq = df_cur_freq\n",
    "        else:\n",
    "            df_freq = df_freq[df_freq['datetime']<cur_date+' '+resample_time]\n",
    "            df_freq = pd.concat([df_freq, df_cur_freq])\n",
    "        df_bytes_freq = df_freq.to_msgpack()\n",
    "        red.set(key_freq, df_bytes_freq)\n",
    "        print(df_1min['datetime'].iloc[-1].strftime('%H:%M:%S') + '  has resample into table ' + key_freq + '!')\n",
    "        print('handled over, sleep {} min!'.format(intfreq*0.8))\n",
    "        time.sleep(intfreq*0.8*60)\n",
    "        resample_time = df_freq['datetime'].iloc[-1]\n",
    "        if resample_time > df_1min['datetime'].iloc[-1]:\n",
    "            resample_time = resample_time - datetime.timedelta(minutes=intfreq)\n",
    "        resample_time = resample_time.strftime('%H:%M:%S')"
   ]
  },
  {
   "cell_type": "code",
   "execution_count": 15,
   "metadata": {},
   "outputs": [
    {
     "name": "stderr",
     "output_type": "stream",
     "text": [
      "/Users/harry/anaconda/envs/py36/lib/python3.6/site-packages/ipykernel_launcher.py:1: FutureWarning: The read_msgpack is deprecated and will be removed in a future version.\n",
      "It is recommended to use pyarrow for on-the-wire transmission of pandas objects.\n",
      "  \"\"\"Entry point for launching an IPython kernel.\n",
      "/Users/harry/anaconda/envs/py36/lib/python3.6/site-packages/ipykernel_launcher.py:6: FutureWarning: how in .resample() is deprecated\n",
      "the new syntax is .resample(...)..apply(<func>)\n",
      "  \n",
      "/Users/harry/anaconda/envs/py36/lib/python3.6/site-packages/ipykernel_launcher.py:27: FutureWarning: to_msgpack is deprecated and will be removed in a future version.\n",
      "It is recommended to use pyarrow for on-the-wire transmission of pandas objects.\n"
     ]
    },
    {
     "name": "stdout",
     "output_type": "stream",
     "text": [
      "11:30:00  has resample into table t_15min_2020-03-03!\n",
      "handled over, sleep 12.0 min!\n",
      "the market has closed!\n"
     ]
    }
   ],
   "source": [
    "run_resample_freq('15min')"
   ]
  },
  {
   "cell_type": "code",
   "execution_count": null,
   "metadata": {},
   "outputs": [],
   "source": []
  }
 ],
 "metadata": {
  "kernelspec": {
   "display_name": "Python 3",
   "language": "python",
   "name": "python3"
  },
  "language_info": {
   "codemirror_mode": {
    "name": "ipython",
    "version": 3
   },
   "file_extension": ".py",
   "mimetype": "text/x-python",
   "name": "python",
   "nbconvert_exporter": "python",
   "pygments_lexer": "ipython3",
   "version": "3.6.4"
  }
 },
 "nbformat": 4,
 "nbformat_minor": 4
}
